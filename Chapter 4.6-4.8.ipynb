{
 "cells": [
  {
   "cell_type": "code",
   "execution_count": 1,
   "metadata": {},
   "outputs": [],
   "source": [
    "import numpy as np\n",
    "import matplotlib.pyplot as plt\n",
    "from mpl_toolkits.mplot3d import Axes3D\n",
    "from sklearn import datasets\n",
    "from sklearn.decomposition import PCA\n",
    "import numpy as np\n",
    "import pandas as pd\n",
    "from sklearn.model_selection import KFold\n",
    "import seaborn as sns\n",
    "import matplotlib.pyplot as plt\n",
    "from sklearn.datasets import load_digits"
   ]
  },
  {
   "cell_type": "code",
   "execution_count": 2,
   "metadata": {},
   "outputs": [],
   "source": [
    "digits = load_digits()"
   ]
  },
  {
   "cell_type": "code",
   "execution_count": 5,
   "metadata": {},
   "outputs": [
    {
     "data": {
      "text/plain": [
       "<matplotlib.image.AxesImage at 0x11c8863d0>"
      ]
     },
     "execution_count": 5,
     "metadata": {},
     "output_type": "execute_result"
    },
    {
     "data": {
      "image/png": "[encoded data removed]",
      "text/plain": [
       "<Figure size 288x288 with 1 Axes>"
      ]
     },
     "metadata": {
      "needs_background": "light"
     },
     "output_type": "display_data"
    }
   ],
   "source": [
    "plt.matshow(digits.images[0])"
   ]
  },
  {
   "cell_type": "code",
   "execution_count": 4,
   "metadata": {},
   "outputs": [
    {
     "data": {
      "text/plain": [
       "array([ 0.,  0.,  5., 13.,  9.,  1.,  0.,  0.,  0.,  0., 13., 15., 10.,\n",
       "       15.,  5.,  0.,  0.,  3., 15.,  2.,  0., 11.,  8.,  0.,  0.,  4.,\n",
       "       12.,  0.,  0.,  8.,  8.,  0.,  0.,  5.,  8.,  0.,  0.,  9.,  8.,\n",
       "        0.,  0.,  4., 11.,  0.,  1., 12.,  7.,  0.,  0.,  2., 14.,  5.,\n",
       "       10., 12.,  0.,  0.,  0.,  0.,  6., 13., 10.,  0.,  0.,  0.])"
      ]
     },
     "execution_count": 4,
     "metadata": {},
     "output_type": "execute_result"
    }
   ],
   "source": [
    "digits.data[0]"
   ]
  },
  {
   "cell_type": "code",
   "execution_count": 41,
   "metadata": {},
   "outputs": [
    {
     "ename": "AttributeError",
     "evalue": "image",
     "output_type": "error",
     "traceback": [
      "\u001b[0;31m---------------------------------------\u001b[0m",
      "\u001b[0;31mKeyError\u001b[0mTraceback (most recent call last)",
      "\u001b[0;32m//anaconda2/envs/mypython3/lib/python3.8/site-packages/sklearn/utils/__init__.py\u001b[0m in \u001b[0;36m__getattr__\u001b[0;34m(self, key)\u001b[0m\n\u001b[1;32m    113\u001b[0m         \u001b[0;32mtry\u001b[0m\u001b[0;34m:\u001b[0m\u001b[0;34m\u001b[0m\u001b[0;34m\u001b[0m\u001b[0m\n\u001b[0;32m--> 114\u001b[0;31m             \u001b[0;32mreturn\u001b[0m \u001b[0mself\u001b[0m\u001b[0;34m[\u001b[0m\u001b[0mkey\u001b[0m\u001b[0;34m]\u001b[0m\u001b[0;34m\u001b[0m\u001b[0;34m\u001b[0m\u001b[0m\n\u001b[0m\u001b[1;32m    115\u001b[0m         \u001b[0;32mexcept\u001b[0m \u001b[0mKeyError\u001b[0m\u001b[0;34m:\u001b[0m\u001b[0;34m\u001b[0m\u001b[0;34m\u001b[0m\u001b[0m\n",
      "\u001b[0;31mKeyError\u001b[0m: 'image'",
      "\nDuring handling of the above exception, another exception occurred:\n",
      "\u001b[0;31mAttributeError\u001b[0mTraceback (most recent call last)",
      "\u001b[0;32m<ipython-input-41-7e86bd2e9177>\u001b[0m in \u001b[0;36m<module>\u001b[0;34m\u001b[0m\n\u001b[1;32m      1\u001b[0m \u001b[0;32mfrom\u001b[0m \u001b[0mscipy\u001b[0m\u001b[0;34m.\u001b[0m\u001b[0mcluster\u001b[0m\u001b[0;34m.\u001b[0m\u001b[0mvq\u001b[0m \u001b[0;32mimport\u001b[0m \u001b[0mwhiten\u001b[0m\u001b[0;34m\u001b[0m\u001b[0;34m\u001b[0m\u001b[0m\n\u001b[1;32m      2\u001b[0m \u001b[0mwhitened_image\u001b[0m \u001b[0;34m=\u001b[0m \u001b[0mwhiten\u001b[0m\u001b[0;34m(\u001b[0m\u001b[0mdigits\u001b[0m\u001b[0;34m.\u001b[0m\u001b[0mimages\u001b[0m\u001b[0;34m[\u001b[0m\u001b[0;36m0\u001b[0m\u001b[0;34m]\u001b[0m\u001b[0;34m)\u001b[0m\u001b[0;34m\u001b[0m\u001b[0;34m\u001b[0m\u001b[0m\n\u001b[0;32m----> 3\u001b[0;31m \u001b[0mU\u001b[0m\u001b[0;34m,\u001b[0m \u001b[0mS\u001b[0m\u001b[0;34m,\u001b[0m \u001b[0mV\u001b[0m \u001b[0;34m=\u001b[0m \u001b[0mnp\u001b[0m\u001b[0;34m.\u001b[0m\u001b[0mlinalg\u001b[0m\u001b[0;34m.\u001b[0m\u001b[0msvd\u001b[0m\u001b[0;34m(\u001b[0m\u001b[0mdigits\u001b[0m\u001b[0;34m.\u001b[0m\u001b[0mimage\u001b[0m\u001b[0;34m[\u001b[0m\u001b[0;36m0\u001b[0m\u001b[0;34m]\u001b[0m\u001b[0;34m)\u001b[0m\u001b[0;34m\u001b[0m\u001b[0;34m\u001b[0m\u001b[0m\n\u001b[0m",
      "\u001b[0;32m//anaconda2/envs/mypython3/lib/python3.8/site-packages/sklearn/utils/__init__.py\u001b[0m in \u001b[0;36m__getattr__\u001b[0;34m(self, key)\u001b[0m\n\u001b[1;32m    114\u001b[0m             \u001b[0;32mreturn\u001b[0m \u001b[0mself\u001b[0m\u001b[0;34m[\u001b[0m\u001b[0mkey\u001b[0m\u001b[0;34m]\u001b[0m\u001b[0;34m\u001b[0m\u001b[0;34m\u001b[0m\u001b[0m\n\u001b[1;32m    115\u001b[0m         \u001b[0;32mexcept\u001b[0m \u001b[0mKeyError\u001b[0m\u001b[0;34m:\u001b[0m\u001b[0;34m\u001b[0m\u001b[0;34m\u001b[0m\u001b[0m\n\u001b[0;32m--> 116\u001b[0;31m             \u001b[0;32mraise\u001b[0m \u001b[0mAttributeError\u001b[0m\u001b[0;34m(\u001b[0m\u001b[0mkey\u001b[0m\u001b[0;34m)\u001b[0m\u001b[0;34m\u001b[0m\u001b[0;34m\u001b[0m\u001b[0m\n\u001b[0m\u001b[1;32m    117\u001b[0m \u001b[0;34m\u001b[0m\u001b[0m\n\u001b[1;32m    118\u001b[0m     \u001b[0;32mdef\u001b[0m \u001b[0m__setstate__\u001b[0m\u001b[0;34m(\u001b[0m\u001b[0mself\u001b[0m\u001b[0;34m,\u001b[0m \u001b[0mstate\u001b[0m\u001b[0;34m)\u001b[0m\u001b[0;34m:\u001b[0m\u001b[0;34m\u001b[0m\u001b[0;34m\u001b[0m\u001b[0m\n",
      "\u001b[0;31mAttributeError\u001b[0m: image"
     ]
    }
   ],
   "source": [
    "from scipy.cluster.vq import whiten\n",
    "whitened_image = whiten(digits.images[0])\n",
    "U, S, V = np.linalg.svd(digits.image[0])"
   ]
  },
  {
   "cell_type": "code",
   "execution_count": 42,
   "metadata": {},
   "outputs": [
    {
     "name": "stdout",
     "output_type": "stream",
     "text": [
      "U\n",
      " [[-0.15823206  0.45138706 -0.41049617 -0.14523009 -0.01404138  0.54682809\n",
      "   0.         -0.53140882]\n",
      " [-0.44368007  0.40091098  0.13060126  0.72165126 -0.21493772 -0.20452618\n",
      "  -0.12505044 -0.03023848]\n",
      " [-0.44063649 -0.22487611  0.04563567  0.16636251  0.64516663  0.4548176\n",
      "  -0.07771161  0.31043999]\n",
      " [-0.37447815 -0.3014337  -0.22720684 -0.13109646  0.31668017 -0.55994713\n",
      "  -0.1348682  -0.51776255]\n",
      " [-0.32508672 -0.35637522 -0.39236825 -0.12562631 -0.5620267   0.1276913\n",
      "  -0.43387994  0.27775823]\n",
      " [-0.38253812 -0.27263344  0.04589837 -0.01300303 -0.28505778  0.08080059\n",
      "   0.8281329  -0.05889901]\n",
      " [-0.40270577  0.24898713  0.64021827 -0.56600727 -0.10593091 -0.00104197\n",
      "  -0.18526211 -0.00673247]\n",
      " [-0.17183564  0.4803766  -0.44135214 -0.27739799  0.1694845  -0.34046051\n",
      "   0.22749926  0.52112878]]\n",
      "(8, 8)\n",
      "S\n",
      " [12.12367496  5.31992938  1.85486732  1.60411155  1.17571772  0.157075\n",
      "  0.         -0.        ]\n",
      "V\n",
      " [[ 0.         -0.2912607  -0.73386032 -0.18519861 -0.20732527 -0.44328055\n",
      "  -0.32068099  0.        ]\n",
      " [ 0.         -0.41649246  0.05352068  0.57698461  0.59479515 -0.07149354\n",
      "  -0.36313323  0.        ]\n",
      " [ 0.         -0.35647826  0.19782201 -0.5092321  -0.04000081  0.52946694\n",
      "  -0.54086695  0.        ]\n",
      " [-0.         -0.59650829 -0.20642267  0.28652666 -0.33166548  0.41957309\n",
      "   0.48314227  0.        ]\n",
      " [-0.         -0.4252113   0.61124717 -0.06107205 -0.34331929 -0.56838007\n",
      "   0.03030536  0.        ]\n",
      " [-0.          0.27928067  0.05672393  0.53632601 -0.61136305  0.13768917\n",
      "  -0.48827864  0.        ]\n",
      " [ 0.          0.          0.          0.          0.          0.\n",
      "   0.          1.        ]\n",
      " [ 1.          0.          0.          0.          0.          0.\n",
      "   0.          0.        ]]\n",
      "(8, 8)\n"
     ]
    }
   ],
   "source": [
    "print(\"U\\n\", U)\n",
    "print(np.shape(U))\n",
    "print(\"S\\n\", S)\n",
    "print(\"V\\n\", V)\n",
    "print(np.shape(V))"
   ]
  },
  {
   "cell_type": "markdown",
   "metadata": {},
   "source": [
    "## Rank 1 approximation"
   ]
  },
  {
   "cell_type": "code",
   "execution_count": 54,
   "metadata": {},
   "outputs": [
    {
     "name": "stdout",
     "output_type": "stream",
     "text": [
      "[[0.         0.04608678 0.11612023 0.02930436 0.0328055  0.07014119\n",
      "  0.05074201 0.        ]\n",
      " [0.         0.12922657 0.3255992  0.08216893 0.09198609 0.19667474\n",
      "  0.14227976 0.        ]\n",
      " [0.         0.1283401  0.32336564 0.08160526 0.09135508 0.19532558\n",
      "  0.14130375 0.        ]\n",
      " [0.         0.10907077 0.27481466 0.06935283 0.07763878 0.16599888\n",
      "  0.12008803 0.        ]\n",
      " [0.         0.09468499 0.23856824 0.06020561 0.06739869 0.14410462\n",
      "  0.10424913 0.        ]\n",
      " [0.         0.11141832 0.28072955 0.07084553 0.07930982 0.16957171\n",
      "  0.1226727  0.        ]\n",
      " [0.         0.11729237 0.29552979 0.07458055 0.08349108 0.17851163\n",
      "  0.12914009 0.        ]\n",
      " [0.         0.05004897 0.12610336 0.03182372 0.03562587 0.0761714\n",
      "  0.05510442 0.        ]]\n"
     ]
    }
   ],
   "source": [
    "new_image = U[:,0:1] @ V[0:1, :]\n",
    "print(new_image)"
   ]
  },
  {
   "cell_type": "code",
   "execution_count": 55,
   "metadata": {},
   "outputs": [
    {
     "data": {
      "text/plain": [
       "<matplotlib.image.AxesImage at 0x11d705d30>"
      ]
     },
     "execution_count": 55,
     "metadata": {},
     "output_type": "execute_result"
    },
    {
     "data": {
      "image/png": "[encoded data removed]",
      "text/plain": [
       "<Figure size 288x288 with 1 Axes>"
      ]
     },
     "metadata": {
      "needs_background": "light"
     },
     "output_type": "display_data"
    }
   ],
   "source": [
    "plt.matshow(new_image)"
   ]
  },
  {
   "cell_type": "code",
   "execution_count": 102,
   "metadata": {},
   "outputs": [
    {
     "name": "stdout",
     "output_type": "stream",
     "text": [
      "[[ 0.00000000e+00 -9.56773283e-16  1.42857143e+00  2.10887847e+00\n",
      "   1.88691271e+00  1.99007438e-01 -3.72867151e-16  0.00000000e+00]\n",
      " [ 0.00000000e+00 -2.15339962e-15  3.71428571e+00  2.43332132e+00\n",
      "   2.09656967e+00  2.98511157e+00  1.38675049e+00  0.00000000e+00]\n",
      " [ 0.00000000e+00  1.56226693e+00  4.28571429e+00  3.24442842e-01\n",
      "  -1.57846708e-15  2.18908182e+00  2.21880078e+00  0.00000000e+00]\n",
      " [ 0.00000000e+00  2.08302258e+00  3.42857143e+00 -1.80022264e-15\n",
      "  -1.24947231e-15  1.59205950e+00  2.21880078e+00  0.00000000e+00]\n",
      " [ 0.00000000e+00  2.60377822e+00  2.28571429e+00 -5.71472791e-16\n",
      "  -3.85804689e-16  1.79106694e+00  2.21880078e+00  0.00000000e+00]\n",
      " [ 0.00000000e+00  2.08302258e+00  3.14285714e+00 -2.50664104e-16\n",
      "   2.09656967e-01  2.38808926e+00  1.94145069e+00  0.00000000e+00]\n",
      " [ 0.00000000e+00  1.04151129e+00  4.00000000e+00  8.11107106e-01\n",
      "   2.09656967e+00  2.38808926e+00  1.22124533e-15  0.00000000e+00]\n",
      " [ 0.00000000e+00 -1.66533454e-15  1.71428571e+00  2.10887847e+00\n",
      "   2.09656967e+00  4.99600361e-16 -1.11022302e-15  0.00000000e+00]]\n"
     ]
    }
   ],
   "source": [
    "start, end = 0, 8\n",
    "\n",
    "new_image = U[:,start:end] @ (np.expand_dims(S[start:end], axis=0).T * V[start:end,:])\n",
    "print(new_image)"
   ]
  },
  {
   "cell_type": "code",
   "execution_count": 104,
   "metadata": {},
   "outputs": [
    {
     "data": {
      "text/plain": [
       "<matplotlib.image.AxesImage at 0x11e874610>"
      ]
     },
     "execution_count": 104,
     "metadata": {},
     "output_type": "execute_result"
    },
    {
     "data": {
      "image/png": "[encoded data removed]",
      "text/plain": [
       "<Figure size 288x288 with 1 Axes>"
      ]
     },
     "metadata": {
      "needs_background": "light"
     },
     "output_type": "display_data"
    }
   ],
   "source": [
    "plt.matshow(new_image)"
   ]
  },
  {
   "cell_type": "markdown",
   "metadata": {},
   "source": [
    "## Rank approx with sum is equal to just taking $U_{i}$"
   ]
  },
  {
   "cell_type": "code",
   "execution_count": 105,
   "metadata": {},
   "outputs": [
    {
     "name": "stdout",
     "output_type": "stream",
     "text": [
      "[[ 0.         -0.44140189  1.53632565  1.74081692  1.82603298  0.67868821\n",
      "  -0.25682932  0.        ]\n",
      " [ 0.          0.67839826  4.06160868  2.22679261  2.38379928  2.23193792\n",
      "   0.95045648  0.        ]\n",
      " [ 0.          2.05421396  3.85635177  0.29909456  0.39599094  2.45359342\n",
      "   2.14754608  0.        ]\n",
      " [ 0.          1.99022838  3.2459375  -0.08444479 -0.0125497   2.12716393\n",
      "   2.03823081  0.        ]\n",
      " [ 0.          1.93755431  2.79085444 -0.36398674 -0.31054697  1.88262149\n",
      "   1.9523436   0.        ]\n",
      " [ 0.          1.95487628  3.32584789  0.02205507  0.09884114  2.1595258\n",
      "   2.01392901  0.        ]\n",
      " [ 0.          0.87033115  3.65380024  1.66846062  1.80008077  2.06951712\n",
      "   1.08464836  0.        ]\n",
      " [ 0.         -0.45759802  1.66561196  1.86034478  1.95195687  0.74077055\n",
      "  -0.25994411  0.        ]]\n"
     ]
    }
   ],
   "source": [
    "start, end = 0, 2\n",
    "\n",
    "new_image = U[:,start:end] @ (np.expand_dims(S[start:end], axis=0).T * V[start:end,:])\n",
    "print(new_image)"
   ]
  },
  {
   "cell_type": "code",
   "execution_count": 106,
   "metadata": {},
   "outputs": [
    {
     "name": "stdout",
     "output_type": "stream",
     "text": [
      "[[ 0.         -0.44140189  1.53632565  1.74081692  1.82603298  0.67868821\n",
      "  -0.25682932  0.        ]\n",
      " [ 0.          0.67839826  4.06160868  2.22679261  2.38379928  2.23193792\n",
      "   0.95045648  0.        ]\n",
      " [ 0.          2.05421396  3.85635177  0.29909456  0.39599094  2.45359342\n",
      "   2.14754608  0.        ]\n",
      " [ 0.          1.99022838  3.2459375  -0.08444479 -0.0125497   2.12716393\n",
      "   2.03823081  0.        ]\n",
      " [ 0.          1.93755431  2.79085444 -0.36398674 -0.31054697  1.88262149\n",
      "   1.9523436   0.        ]\n",
      " [ 0.          1.95487628  3.32584789  0.02205507  0.09884114  2.1595258\n",
      "   2.01392901  0.        ]\n",
      " [ 0.          0.87033115  3.65380024  1.66846062  1.80008077  2.06951712\n",
      "   1.08464836  0.        ]\n",
      " [ 0.         -0.45759802  1.66561196  1.86034478  1.95195687  0.74077055\n",
      "  -0.25994411  0.        ]]\n"
     ]
    }
   ],
   "source": [
    "start, end = 0, 1\n",
    "\n",
    "new_image_a = U[:,start:end] @ (np.expand_dims(S[start:end], axis=0).T * V[start:end,:])\n",
    "start, end = 1, 2\n",
    "\n",
    "new_image_b = U[:,start:end] @ (np.expand_dims(S[start:end], axis=0).T * V[start:end,:])\n",
    "new_image = new_image_a + new_image_b\n",
    "print(new_image)"
   ]
  },
  {
   "cell_type": "code",
   "execution_count": null,
   "metadata": {},
   "outputs": [],
   "source": []
  }
 ],
 "metadata": {
  "kernelspec": {
   "display_name": "Python 3",
   "language": "python",
   "name": "python3"
  },
  "language_info": {
   "codemirror_mode": {
    "name": "ipython",
    "version": 3
   },
   "file_extension": ".py",
   "mimetype": "text/x-python",
   "name": "python",
   "nbconvert_exporter": "python",
   "pygments_lexer": "ipython3",
   "version": "3.8.0"
  }
 },
 "nbformat": 4,
 "nbformat_minor": 4
}
