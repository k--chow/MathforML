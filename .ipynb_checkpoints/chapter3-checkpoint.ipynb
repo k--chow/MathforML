{
 "cells": [
  {
   "cell_type": "code",
   "execution_count": 1,
   "metadata": {},
   "outputs": [
    {
     "name": "stdout",
     "output_type": "stream",
     "text": [
      "5.0\n",
      "11\n"
     ]
    }
   ],
   "source": [
    "%gui qt\n",
    "import numpy as np\n",
    "norm = lambda a : np.linalg.norm(a)\n",
    "dot = lambda a,b : np.dot(a,b)\n",
    "funky = lambda a,b : a[0]* b[0] - (a[0]*b[1] + a[1]*b[0]) + 2 * a[1]*b[1]\n",
    "print(norm([3,4]))\n",
    "print(dot([1,2],[3,4]))\n",
    "    "
   ]
  },
  {
   "cell_type": "code",
   "execution_count": 5,
   "metadata": {},
   "outputs": [
    {
     "name": "stdout",
     "output_type": "stream",
     "text": [
      "-3\n"
     ]
    }
   ],
   "source": [
    "#⟨x, y⟩ := x1y1 − (x1y2 + x2y1) + 2x2y2\n",
    "print(1 * 3 - (1 * 4 + 2 * 3) + 2* 2)"
   ]
  },
  {
   "cell_type": "markdown",
   "metadata": {},
   "source": [
    "a set of basis vectors is a bilinear mapping"
   ]
  },
  {
   "cell_type": "code",
   "execution_count": 6,
   "metadata": {},
   "outputs": [
    {
     "name": "stdout",
     "output_type": "stream",
     "text": [
      "-51\n",
      "-51\n"
     ]
    }
   ],
   "source": [
    "lamb = 2\n",
    "phi = 3\n",
    "b1 ,b2, b3 = np.array([[1,2,3],[0,1,0] , [0,0,1]])\n",
    "b1, b2, b3 = np.array([[1,2],[2,3], [3,-2]])\n",
    "print(funky(lamb * b1 + phi * b2, b3))\n",
    "print(lamb * funky(b1,b3) + phi * funky(b2, b3))\n",
    "# print(np.dot(b1,b2))\n",
    "# print(np.dot(b1, 2 * np.asarray(b2)) == 2 * np.dot(b1, b2))"
   ]
  },
  {
   "cell_type": "code",
   "execution_count": 7,
   "metadata": {},
   "outputs": [
    {
     "name": "stdout",
     "output_type": "stream",
     "text": [
      "xhat [[2]\n",
      " [3]]\n",
      "yhat [[4]\n",
      " [5]]\n",
      "B shape (2, 2)\n",
      "A [[5 3]\n",
      " [3 2]]\n",
      "xhat [[2]\n",
      " [3]]\n",
      "shape of x and y (2, 1)\n",
      "[157]\n",
      "[[136]]\n"
     ]
    }
   ],
   "source": [
    "B = np.array([[1,1], [2,1]])\n",
    "psi = np.array([2,3])\n",
    "lamb = np.array([4,5])\n",
    "\n",
    "xhat = psi.reshape(-1,1)\n",
    "yhat = lamb.reshape(-1,1)\n",
    "print('xhat', xhat)\n",
    "print('yhat', yhat)\n",
    "# print(np.dot(psi, lamb))\n",
    "summation = 0 \n",
    "for i in range(2):\n",
    "    for j in range(2):\n",
    "        summation+=xhat[i] * np.dot(B[i], B[j]) * yhat[j]\n",
    "print('B shape', B.shape)\n",
    "A = B.T @ B\n",
    "print('A', A)\n",
    "print('xhat', xhat)\n",
    "print('shape of x and y', xhat.shape)\n",
    "print(summation)\n",
    "\n",
    "print(xhat.T @ A @ yhat)"
   ]
  },
  {
   "cell_type": "code",
   "execution_count": 8,
   "metadata": {},
   "outputs": [
    {
     "name": "stdout",
     "output_type": "stream",
     "text": [
      "(2, 2)\n",
      "[[1 0]\n",
      " [2 1]]\n",
      "[[99]]\n",
      "99\n",
      "[[5 2]\n",
      " [2 1]]\n",
      "[[99]]\n"
     ]
    }
   ],
   "source": [
    "B = np.array([[1,0], [2,1]])\n",
    "psi = np.array([2,3])\n",
    "lamb = np.array([4,5])\n",
    "\n",
    "x = B @ psi.reshape(-1,1)\n",
    "y = B @ lamb.reshape(-1,1)\n",
    "\n",
    "print(B.shape)\n",
    "print(B)\n",
    "print(x.T @ y)\n",
    "\n",
    "summation = 0 \n",
    "for i in range(2):\n",
    "    for j in range(2):\n",
    "        summation+=psi[i] * np.dot(B.T[i], B.T[j]) * lamb[j]\n",
    "print(summation)\n",
    "\n",
    "A = B.T @ B\n",
    "print(A)\n",
    "xhat = psi.reshape(-1,1)\n",
    "yhat = lamb.reshape(-1,1)\n",
    "print(xhat.T @ A @ yhat)"
   ]
  },
  {
   "cell_type": "markdown",
   "metadata": {},
   "source": [
    "Dot product: ${x_{1}y_{1} + x_{2}y_{2}}$\n",
    "\n",
    "Euclidean Metric: $\\sqrt{(x_{1}-y_{1})^{2} + (x_{2}-y_{2})^2}$"
   ]
  },
  {
   "cell_type": "code",
   "execution_count": 9,
   "metadata": {},
   "outputs": [],
   "source": [
    "# cauchy shwarz? show its relevance\n",
    "#example 3.5 what are the ramifications of using a different inner product. When is it even an inner product again?\n",
    "# norm definition\n",
    "a = [1, -1, 1]\n",
    "b = [-10, -1, 1]"
   ]
  },
  {
   "cell_type": "code",
   "execution_count": 10,
   "metadata": {},
   "outputs": [
    {
     "data": {
      "text/plain": [
       "<function numpy.linalg.norm(x, ord=None, axis=None, keepdims=False)>"
      ]
     },
     "execution_count": 10,
     "metadata": {},
     "output_type": "execute_result"
    }
   ],
   "source": [
    "# compare euclidean distance and dot product \n",
    "np.dot(a, a)\n",
    "\n",
    "np.linalg.norm"
   ]
  },
  {
   "cell_type": "markdown",
   "metadata": {},
   "source": [
    "### Orthogonal Matrix\n",
    "    If a matrix is orthogonal it is also orthonormal\n",
    "    A and B here are both orthogonal matrix    "
   ]
  },
  {
   "cell_type": "code",
   "execution_count": 11,
   "metadata": {},
   "outputs": [
    {
     "name": "stdout",
     "output_type": "stream",
     "text": [
      "Norm of x 5.000000000000001\n",
      "[1 2] | | =  5.000000000000001\n",
      "[ 2.12132034 -0.70710678] | | =  2.2360679774997894\n"
     ]
    }
   ],
   "source": [
    "A = np.array([[1,0],[0,1]])\n",
    "B = np.array([[1/np.sqrt(2),1/np.sqrt(2)],[1/np.sqrt(2),-1/np.sqrt(2)]])\n",
    "x = np.array([1,2])\n",
    "print(\"Norm of x\", np.linalg.norm(x)**2)\n",
    "print(A @ x, '| | = ', np.linalg.norm(A@x) ** 2)\n",
    "print(B.T @ x, '| | = ', np.linalg.norm(B @ x))"
   ]
  },
  {
   "cell_type": "code",
   "execution_count": 12,
   "metadata": {},
   "outputs": [
    {
     "name": "stdout",
     "output_type": "stream",
     "text": [
      "[[1. 0. 0.]\n",
      " [0. 1. 0.]\n",
      " [0. 0. 1.]]\n"
     ]
    }
   ],
   "source": [
    "# A = []\n",
    "# V = np.array([[2,0],[0,1]])\n",
    "# u1 = V[:,0]/np.linalg.norm(V[:,0])\n",
    "# A.append(u1)\n",
    "# v2 = V[:,1]\n",
    "# u2 = (v2 - v2 @ u1)/np.linalg.norm(v2)\n",
    "# A.append(u2)\n",
    "\n",
    "# print(u1)\n",
    "# print(u2)\n",
    "# print(A)\n",
    "def gram_schmidt(V):\n",
    "    '''\n",
    "    Input: set of linearly independent vectors V (n,k)\n",
    "    Output: set of orthonormal basic vectors A (n,k)\n",
    "    '''\n",
    "    V = np.asarray(V)\n",
    "    A = []\n",
    "    u1 = V[:,0]/np.linalg.norm(V[:,0])\n",
    "    A.append(u1)\n",
    "    for i in range(1, len(V)):\n",
    "        vi = V[:,i].reshape(len(V[:,i]), 1)\n",
    "        proj = 0\n",
    "        for j in range(len(A)):\n",
    "            u = np.asarray(A).T[:,j]\n",
    "            u = u.reshape(len(u),1)\n",
    "            proj += vi *u *u\n",
    "        ui = (vi - proj)/np.linalg.norm(vi)\n",
    "        A.append(ui.reshape(len(ui)))\n",
    "    return np.asarray(A)\n",
    "\n",
    "V = [[3,0,0],[0,4,0],[0,0,5]]       \n",
    "print(gram_schmidt(V))\n"
   ]
  },
  {
   "cell_type": "markdown",
   "metadata": {},
   "source": [
    "## 3.6 - 4.0\n",
    "\n",
    "### Old\n",
    "\n",
    "Subspace\n",
    "- Requirement i) v + w is closed\n",
    "- Requirement ii) c*v is closed\n",
    "- 0 exists\n",
    "- Examples like line, plane, single vector, whole space\n",
    "- Forgot: how many dimensions in a guy again? Same as vector space right? Don't confuse dimensions and number of basis. Has to be strictly less than.\n",
    "\n",
    "Linear transformation/mapping\n",
    "- represented by a matrix\n",
    "- homomorphism/linear transformation\n",
    "- keeps addition and multiplication\n",
    "- preserves structure of vector space\n",
    "\n",
    "Affine space*\n",
    "- Off the origin\n",
    "\n",
    "What are the types of morphisms?\n",
    "- homomorphism mapping of algebraic structure, linear map. Same as functor in category theory\n",
    "- iso V -> W linear bijective, invertible. benefit just renaming graph replace with what you know\n",
    "- endo V > Vlinear, morphism to self. Endo that is isomorphism is automorphism\n",
    "- automorphism V -> V linear and bijective, isomorphism to self but better than endo because bijective\n",
    "\n",
    "### New\n",
    "\n",
    "Orthogonal Complement\n",
    "- You can describe a plane with a vector 'normal'. generalizes to hyperplane, orthog complement describes your space. \n",
    "    - describe 3d line with 2d plane, and 2d plane with 3d line \n",
    "    - feels relevant to lines and planes in 3d space \n",
    "- x can be uniquely decomposed\n",
    "\n",
    "Inner product of functions\n",
    "- show this is true with sin(x) cos(x), function has limit\n",
    "- look at more kernel lectures, comparing kernels? polynomial kernel good place\n",
    "- orthogonal function meaning? \n",
    "\n",
    "#### Orthogonal Projection\n",
    "- WATCH THIS LECTURE: https://www.youtube.com/watch?v=Y_Ac6KiQ1t0 \n",
    "- distance is minimal \"closest\" meaning, minimal difference\n",
    "- idempotent\n",
    "- subset of a linear transformation \n",
    "vs projction and matrix mult?\n",
    "\n",
    "Rotations\n",
    "- preserves distances, lengths, angles\n",
    "- not commutative 3D and onward\n",
    "\n",
    "Gram-Schmidt\n",
    "\n",
    "linear transformation vs projection \n",
    "\n",
    "represent linear transformation with matrix\n",
    "\n",
    "givens\n",
    "\n",
    "better viiusalizaion\n",
    "\n",
    "\n",
    "\n",
    "### Show/prove/experiments\n",
    "\n",
    "Rotation\n",
    "\n",
    "projections\n",
    "\n",
    "Representing a space with hyperplane\n",
    "\n",
    "What doeds it mean for functions to be orthogonal? Inner function of product \n",
    "\n",
    "f o g = f(g(x))\n"
   ]
  },
  {
   "cell_type": "code",
   "execution_count": null,
   "metadata": {},
   "outputs": [],
   "source": [
    "# Gram-Schmidt part 2\n",
    "# independence does not mean linearly independent. Check yoself.\n",
    "# gets you to orthonormal\n",
    "\n",
    "# [[2, 0], [1, 1]]\n",
    "\n",
    "basis = [[1, 0, 0], [2, 0, 3], [4, 5, 6]]\n",
    "\n",
    "def gram_shit(basis):\n",
    "    \n"
   ]
  },
  {
   "cell_type": "code",
   "execution_count": 14,
   "metadata": {},
   "outputs": [],
   "source": [
    "# space    [1 0 0], [0 1 0], [0 0 1]"
   ]
  },
  {
   "cell_type": "markdown",
   "metadata": {},
   "source": [
    "\n",
    "$x = \\sum \\lambda_{m}b_{m}$"
   ]
  },
  {
   "cell_type": "code",
   "execution_count": 15,
   "metadata": {},
   "outputs": [
    {
     "ename": "SyntaxError",
     "evalue": "invalid syntax (<ipython-input-15-98e4d0eed2dc>, line 1)",
     "output_type": "error",
     "traceback": [
      "\u001b[0;36m  File \u001b[0;32m\"<ipython-input-15-98e4d0eed2dc>\"\u001b[0;36m, line \u001b[0;32m1\u001b[0m\n\u001b[0;31m    subspace A [1 0], [0 1]\u001b[0m\n\u001b[0m             ^\u001b[0m\n\u001b[0;31mSyntaxError\u001b[0m\u001b[0;31m:\u001b[0m invalid syntax\n"
     ]
    }
   ],
   "source": [
    "subspace A [1 0], [0 1]\n",
    "\n",
    "subspace A_c [0 0 1]"
   ]
  },
  {
   "cell_type": "markdown",
   "metadata": {},
   "source": [
    "## Determinant"
   ]
  },
  {
   "cell_type": "code",
   "execution_count": 21,
   "metadata": {},
   "outputs": [
    {
     "name": "stdout",
     "output_type": "stream",
     "text": [
      "regular -5.000000000000001\n",
      "scaled row addtion to another row -5.000000000000001\n",
      "order of row change 5.000000000000001\n",
      "Scaled one row of A only  -25.000000000000007\n"
     ]
    }
   ],
   "source": [
    "A = np.array([[1,2,3],[3,1,2],[0,0,1]])\n",
    "A_1= np.array([A[0],A[1] + 2* A[2], A[2]])\n",
    "A_order = np.array([A[2],A[1],A[0]])\n",
    "A_lamb = np.array([A[0],A[1],5 * A[2]])\n",
    "print('regular',np.linalg.det(A))\n",
    "print('scaled row addtion to another row',np.linalg.det(A_1))\n",
    "print('order of row change', np.linalg.det(A_order))\n",
    "print('Scaled one row of A only ', np.linalg.det(A_lamb))"
   ]
  },
  {
   "cell_type": "code",
   "execution_count": null,
   "metadata": {},
   "outputs": [],
   "source": []
  },
  {
   "cell_type": "code",
   "execution_count": 1,
   "metadata": {},
   "outputs": [
    {
     "ename": "NameError",
     "evalue": "name 'mlab' is not defined",
     "output_type": "error",
     "traceback": [
      "\u001b[0;31m----------------------------------------------\u001b[0m",
      "\u001b[0;31mNameError\u001b[0m    Traceback (most recent call last)",
      "\u001b[0;32m<ipython-input-1-e8233cc210fb>\u001b[0m in \u001b[0;36m<module>\u001b[0;34m\u001b[0m\n\u001b[0;32m----> 1\u001b[0;31m \u001b[0mmlab\u001b[0m\u001b[0;34m.\u001b[0m\u001b[0minit_notebook\u001b[0m\u001b[0;34m(\u001b[0m\u001b[0;34m)\u001b[0m\u001b[0;34m\u001b[0m\u001b[0;34m\u001b[0m\u001b[0m\n\u001b[0m",
      "\u001b[0;31mNameError\u001b[0m: name 'mlab' is not defined"
     ]
    }
   ],
   "source": [
    "mlab.init_notebook()"
   ]
  },
  {
   "cell_type": "code",
   "execution_count": 2,
   "metadata": {},
   "outputs": [
    {
     "name": "stdout",
     "output_type": "stream",
     "text": [
      "Notebook initialized with ipy backend.\n"
     ]
    }
   ],
   "source": [
    "\n",
    "from mayavi import mlab\n",
    "mlab.init_notebook('ipy')\n",
    "s = mlab.test_plot3d()"
   ]
  },
  {
   "cell_type": "code",
   "execution_count": 3,
   "metadata": {},
   "outputs": [],
   "source": [
    "from numpy import pi, sin, cos, mgrid\n",
    "dphi, dtheta = pi/250.0, pi/250.0\n",
    "[phi,theta] = mgrid[0:pi+dphi*1.5:dphi,0:2*pi+dtheta*1.5:dtheta]\n",
    "m0 = 4; m1 = 3; m2 = 2; m3 = 3; m4 = 6; m5 = 2; m6 = 6; m7 = 4;\n",
    "r = sin(m0*phi)**m1 + cos(m2*phi)**m3 + sin(m4*theta)**m5 + cos(m6*theta)**m7;\n",
    "x = r*sin(phi)*cos(theta);\n",
    "y = r*cos(phi);\n",
    "z = r*sin(phi)*sin(theta);\n",
    "\n",
    "# View it.\n",
    "s = mlab.mesh(x, y, z)\n",
    "\n",
    "mlab.show()\n"
   ]
  },
  {
   "cell_type": "code",
   "execution_count": null,
   "metadata": {},
   "outputs": [],
   "source": [
    "\n"
   ]
  },
  {
   "cell_type": "code",
   "execution_count": null,
   "metadata": {},
   "outputs": [],
   "source": []
  }
 ],
 "metadata": {
  "kernelspec": {
   "display_name": "Python 3",
   "language": "python",
   "name": "python3"
  },
  "language_info": {
   "codemirror_mode": {
    "name": "ipython",
    "version": 3
   },
   "file_extension": ".py",
   "mimetype": "text/x-python",
   "name": "python",
   "nbconvert_exporter": "python",
   "pygments_lexer": "ipython3",
   "version": "3.8.0"
  }
 },
 "nbformat": 4,
 "nbformat_minor": 4
}
